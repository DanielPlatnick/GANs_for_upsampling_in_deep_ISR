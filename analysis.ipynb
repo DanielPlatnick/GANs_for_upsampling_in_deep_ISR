{
 "cells": [
  {
   "cell_type": "code",
   "execution_count": 1,
   "metadata": {},
   "outputs": [
    {
     "name": "stderr",
     "output_type": "stream",
     "text": [
      "c:\\Users\\Suren\\.conda\\envs\\torch\\lib\\site-packages\\tqdm\\auto.py:22: TqdmWarning: IProgress not found. Please update jupyter and ipywidgets. See https://ipywidgets.readthedocs.io/en/stable/user_install.html\n",
      "  from .autonotebook import tqdm as notebook_tqdm\n"
     ]
    }
   ],
   "source": [
    "import os\n",
    "os.environ['CUDA_LAUNCH_BLOCKING'] = \"1\"\n",
    "\n",
    "import torch\n",
    "from torch import nn, optim\n",
    "from torch.nn import functional as F\n",
    "# import dataloader from torch\n",
    "#import dataset\n",
    "# import toTesor\n",
    "import torchvision\n",
    "from torchvision import transforms\n",
    "from torchvision.io import read_image\n",
    "from torch.utils.data import DataLoader, Dataset\n",
    "import numpy as np\n",
    "import matplotlib.pyplot as plt\n",
    "from os.path import join\n",
    "import sys\n",
    "from PIL import Image\n",
    "import cv2\n",
    "from torchvision.transforms import Compose, RandomCrop, ToTensor, ToPILImage, CenterCrop, Resize\n",
    "\n",
    "from dataset import TrainDatasetFromFolder\n",
    "from model import Generator, Discriminator, GeneratorLoss\n",
    "from tqdm import tqdm\n",
    "from torch.autograd import Variable"
   ]
  },
  {
   "cell_type": "code",
   "execution_count": 2,
   "metadata": {},
   "outputs": [],
   "source": [
    "# get psnr and ssim\n",
    "from skimage.metrics import structural_similarity as ssim\n",
    "from skimage.metrics import peak_signal_noise_ratio as psnr\n"
   ]
  },
  {
   "cell_type": "code",
   "execution_count": 4,
   "metadata": {},
   "outputs": [],
   "source": [
    "torch.autograd.set_detect_anomaly(True)\n",
    "device = torch.device(\"cuda\" if torch.cuda.is_available() else \"cpu\")"
   ]
  },
  {
   "cell_type": "code",
   "execution_count": 3,
   "metadata": {},
   "outputs": [],
   "source": [
    "\n",
    "def get_factor(path):\n",
    "    return int(path.split('_')[1])\n",
    "\n",
    "factors = [get_factor(path) for path in os.listdir('models')]"
   ]
  },
  {
   "cell_type": "code",
   "execution_count": 5,
   "metadata": {},
   "outputs": [],
   "source": [
    "generators = [Generator(factors[i]).to(device) for i in range(len(os.listdir('models')))]"
   ]
  },
  {
   "cell_type": "code",
   "execution_count": 6,
   "metadata": {},
   "outputs": [],
   "source": [
    "for i, file in enumerate(os.listdir(\"models\")):\n",
    "    generators[i].load_state_dict(torch.load(join(\"models\", file), map_location=device))\n",
    "    generators[i].eval()"
   ]
  },
  {
   "cell_type": "code",
   "execution_count": 9,
   "metadata": {},
   "outputs": [],
   "source": [
    "# run psnr and ssim\n",
    "def run_psnr_ssim():\n",
    "    # get test dataset\n",
    "    test_dataset = TrainDatasetFromFolder('data/original/train', crop_size=256, upscale_factor=4)\n",
    "    test_loader = DataLoader(dataset=test_dataset, num_workers=4, batch_size=1, shuffle=False)\n",
    "    # get psnr and ssim\n",
    "    psnr_list = []\n",
    "    ssim_list = []\n",
    "    for iteration, batch in enumerate(test_loader, 1):\n",
    "        input, target = batch[0].to(device), batch[1].to(device)\n",
    "        # do it for each generator\n",
    "        for i in range(len(generators)):\n",
    "            # get output\n",
    "            output = generators[i](input)\n",
    "            # get psnr and ssim\n",
    "            psnr_list.append(psnr(target.cpu().detach().numpy(), output.cpu().detach().numpy()))\n",
    "            ssim_list.append(ssim(target.cpu().detach().numpy(), output.cpu().detach().numpy(), multichannel=True))\n",
    "    return psnr_list, ssim_list"
   ]
  },
  {
   "cell_type": "code",
   "execution_count": null,
   "metadata": {},
   "outputs": [],
   "source": [
    "# graph psnr and ssim\n",
    "def graph_psnr_ssim():\n",
    "    psnr_list, ssim_list = run_psnr_ssim()\n",
    "    # graph psnr\n",
    "    plt.plot(psnr_list)\n",
    "    plt.title('PSNR')\n",
    "    plt.show()\n",
    "    # graph ssim\n",
    "    plt.plot(ssim_list)\n",
    "    plt.title('SSIM')\n",
    "    plt.show()"
   ]
  },
  {
   "cell_type": "code",
   "execution_count": null,
   "metadata": {},
   "outputs": [],
   "source": [
    "graph_psnr_ssim()"
   ]
  }
 ],
 "metadata": {
  "kernelspec": {
   "display_name": "Python 3.10.8 ('torch')",
   "language": "python",
   "name": "python3"
  },
  "language_info": {
   "codemirror_mode": {
    "name": "ipython",
    "version": 3
   },
   "file_extension": ".py",
   "mimetype": "text/x-python",
   "name": "python",
   "nbconvert_exporter": "python",
   "pygments_lexer": "ipython3",
   "version": "3.10.8"
  },
  "orig_nbformat": 4,
  "vscode": {
   "interpreter": {
    "hash": "e4090dc6ebd0aabdad2f5e783736e937ac5c18401d77fbabffd250cc6d250574"
   }
  }
 },
 "nbformat": 4,
 "nbformat_minor": 2
}
