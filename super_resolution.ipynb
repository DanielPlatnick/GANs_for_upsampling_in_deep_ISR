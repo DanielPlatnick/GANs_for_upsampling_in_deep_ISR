{
 "cells": [
  {
   "cell_type": "markdown",
   "metadata": {},
   "source": [
    "# Import Packages"
   ]
  },
  {
   "cell_type": "code",
   "execution_count": 1,
   "metadata": {},
   "outputs": [
    {
     "name": "stderr",
     "output_type": "stream",
     "text": [
      "c:\\Users\\Suren\\.conda\\envs\\torch\\lib\\site-packages\\tqdm\\auto.py:22: TqdmWarning: IProgress not found. Please update jupyter and ipywidgets. See https://ipywidgets.readthedocs.io/en/stable/user_install.html\n",
      "  from .autonotebook import tqdm as notebook_tqdm\n"
     ]
    }
   ],
   "source": [
    "import os\n",
    "os.environ['CUDA_LAUNCH_BLOCKING'] = \"1\"\n",
    "\n",
    "import torch\n",
    "from torch import nn, optim\n",
    "from torch.nn import functional as F\n",
    "# import dataloader from torch\n",
    "#import dataset\n",
    "# import toTesor\n",
    "import torchvision\n",
    "from torchvision import transforms\n",
    "from torchvision.io import read_image\n",
    "from torch.utils.data import DataLoader, Dataset\n",
    "import numpy as np\n",
    "import matplotlib.pyplot as plt\n",
    "from os.path import join\n",
    "import sys\n",
    "from PIL import Image\n",
    "import cv2\n",
    "from torchvision.transforms import Compose, RandomCrop, ToTensor, ToPILImage, CenterCrop, Resize\n",
    "\n",
    "from dataset import TrainDatasetFromFolder\n",
    "from model import Generator, Discriminator, GeneratorLoss\n",
    "from tqdm import tqdm\n",
    "from torch.autograd import Variable"
   ]
  },
  {
   "cell_type": "code",
   "execution_count": 2,
   "metadata": {},
   "outputs": [
    {
     "data": {
      "text/plain": [
       "device(type='cuda')"
      ]
     },
     "execution_count": 2,
     "metadata": {},
     "output_type": "execute_result"
    }
   ],
   "source": [
    "torch.autograd.set_detect_anomaly(True)\n",
    "device = torch.device(\"cuda\" if torch.cuda.is_available() else \"cpu\")\n",
    "device"
   ]
  },
  {
   "cell_type": "code",
   "execution_count": 3,
   "metadata": {},
   "outputs": [],
   "source": [
    "UPSCALE_FACTOR = 4\n",
    "CROP_SIZE = 24\n",
    "N_EPOCHS = 5"
   ]
  },
  {
   "cell_type": "code",
   "execution_count": 4,
   "metadata": {},
   "outputs": [],
   "source": [
    "mean = np.array([0.485, 0.456, 0.406])\n",
    "std = np.array([0.229, 0.224, 0.225])"
   ]
  },
  {
   "cell_type": "code",
   "execution_count": 5,
   "metadata": {},
   "outputs": [
    {
     "name": "stderr",
     "output_type": "stream",
     "text": [
      "C:\\Users\\Suren\\AppData\\Roaming\\Python\\Python310\\site-packages\\torchvision\\transforms\\transforms.py:329: UserWarning: Argument 'interpolation' of type int is deprecated since 0.13 and will be removed in 0.15. Please use InterpolationMode enum.\n",
      "  warnings.warn(\n"
     ]
    }
   ],
   "source": [
    "train_set = TrainDatasetFromFolder(\"data/original/train/\", crop_size=CROP_SIZE,\n",
    "                                   upscale_factor=UPSCALE_FACTOR)\n",
    "trainloader = DataLoader(train_set, batch_size=64, num_workers=4, shuffle=True)"
   ]
  },
  {
   "cell_type": "code",
   "execution_count": 6,
   "metadata": {},
   "outputs": [
    {
     "name": "stderr",
     "output_type": "stream",
     "text": [
      "C:\\Users\\Suren\\AppData\\Roaming\\Python\\Python310\\site-packages\\torchvision\\models\\_utils.py:208: UserWarning: The parameter 'pretrained' is deprecated since 0.13 and may be removed in the future, please use 'weights' instead.\n",
      "  warnings.warn(\n",
      "C:\\Users\\Suren\\AppData\\Roaming\\Python\\Python310\\site-packages\\torchvision\\models\\_utils.py:223: UserWarning: Arguments other than a weight enum or `None` for 'weights' are deprecated since 0.13 and may be removed in the future. The current behavior is equivalent to passing `weights=VGG16_Weights.IMAGENET1K_V1`. You can also use `weights=VGG16_Weights.DEFAULT` to get the most up-to-date weights.\n",
      "  warnings.warn(msg)\n"
     ]
    }
   ],
   "source": [
    "netG = Generator(UPSCALE_FACTOR)\n",
    "netD = Discriminator()\n",
    "\n",
    "generator_criterion = GeneratorLoss()\n",
    "\n",
    "generator_criterion = generator_criterion.to(device)\n",
    "netG = netG.to(device)\n",
    "netD = netD.to(device)\n",
    "\n",
    "optimizerG = optim.Adam(netG.parameters(), lr=0.0002)\n",
    "optimizerD = optim.Adam(netD.parameters(), lr=0.0002)"
   ]
  },
  {
   "cell_type": "code",
   "execution_count": 7,
   "metadata": {},
   "outputs": [],
   "source": [
    "results = {\n",
    "    \"d_loss\":[],\n",
    "    \"g_loss\":[],\n",
    "    \"d_score\": [],\n",
    "    \"g_score\": []\n",
    "}"
   ]
  },
  {
   "cell_type": "code",
   "execution_count": 8,
   "metadata": {},
   "outputs": [],
   "source": [
    "def train():\n",
    "    global netG, netD, optimizerG, optimizerD, generator_criterion, N_EPOCHS, trainloader, results\n",
    "    for epoch in range(1, N_EPOCHS + 1):\n",
    "        train_bar = tqdm(trainloader)\n",
    "        running_results = {'batch_sizes':0, 'd_loss':0,\n",
    "                            \"g_loss\":0, \"d_score\":0, \"g_score\":0}\n",
    "\n",
    "        netG.train()\n",
    "        netD.train()\n",
    "        for data, target in train_bar:\n",
    "            g_update_first = True\n",
    "            batch_size = data.size(0)\n",
    "            running_results['batch_sizes'] += batch_size\n",
    "\n",
    "            real_img = Variable(target)\n",
    "            real_img = real_img.to(device)\n",
    "            z = Variable(data)\n",
    "            z = z.to(device)\n",
    "\n",
    "            ## Update Discriminator ##\n",
    "            fake_img = netG(z)\n",
    "            netD.zero_grad()\n",
    "            real_out = netD(real_img).mean()\n",
    "            fake_out = netD(fake_img).mean()\n",
    "            d_loss = 1 - real_out + fake_out\n",
    "            d_loss.backward(retain_graph = True)\n",
    "            optimizerD.step()\n",
    "            \n",
    "            ## Now update Generator\n",
    "            fake_img = netG(z)\n",
    "            fake_out = netD(fake_img).mean()\n",
    "            netG.zero_grad()\n",
    "            g_loss = generator_criterion(fake_out, fake_img, real_img)\n",
    "            g_loss.backward()\n",
    "\n",
    "            fake_img = netG(z)\n",
    "            fake_out = netD(fake_img).mean()\n",
    "\n",
    "            optimizerG.step()\n",
    "\n",
    "            running_results['g_loss'] += g_loss.item() * batch_size\n",
    "            running_results['d_loss'] += d_loss.item() * batch_size\n",
    "            running_results['d_score'] += real_out.item() * batch_size\n",
    "            running_results['g_score'] += real_out.item() * batch_size\n",
    "\n",
    "            ## Updating the progress bar\n",
    "            train_bar.set_description(desc=\"[%d/%d] Loss_D: %.4f Loss_G: %.4f D(x): %.4f D(G(z)): %.4f\" % (\n",
    "                epoch, N_EPOCHS, running_results['d_loss'] / running_results['batch_sizes'],\n",
    "                running_results['g_loss'] / running_results['batch_sizes'],\n",
    "                running_results['d_score'] / running_results['batch_sizes'],\n",
    "                running_results['g_score'] / running_results['batch_sizes']\n",
    "            ))\n",
    "            results[\"d_loss\"].append(running_results['d_loss'] / running_results['batch_sizes'])\n",
    "            results[\"g_loss\"].append(running_results['g_loss'] / running_results['batch_sizes'])\n",
    "            results[\"d_score\"].append(running_results['d_score'] / running_results['batch_sizes'])\n",
    "            results[\"g_score\"].append(running_results['g_score'] / running_results['batch_sizes'])\n",
    "\n",
    "        netG.eval()\n",
    "    return results, netG, netD"
   ]
  },
  {
   "cell_type": "code",
   "execution_count": 9,
   "metadata": {},
   "outputs": [
    {
     "name": "stderr",
     "output_type": "stream",
     "text": [
      "[1/5] Loss_D: 0.4682 Loss_G: 0.0244 D(x): 0.7376 D(G(z)): 0.7376: 100%|██████████| 56/56 [00:41<00:00,  1.35it/s]\n",
      "[2/5] Loss_D: 0.0283 Loss_G: 0.0124 D(x): 0.9856 D(G(z)): 0.9856: 100%|██████████| 56/56 [00:36<00:00,  1.55it/s]\n",
      "[3/5] Loss_D: 0.5938 Loss_G: 0.0095 D(x): 0.6688 D(G(z)): 0.6688: 100%|██████████| 56/56 [00:37<00:00,  1.51it/s]\n",
      "[4/5] Loss_D: 0.0778 Loss_G: 0.0085 D(x): 0.9580 D(G(z)): 0.9580: 100%|██████████| 56/56 [00:36<00:00,  1.51it/s]\n",
      "[5/5] Loss_D: 0.0088 Loss_G: 0.0085 D(x): 0.9940 D(G(z)): 0.9940: 100%|██████████| 56/56 [00:36<00:00,  1.52it/s]\n"
     ]
    }
   ],
   "source": [
    "res, netG, netD = train()"
   ]
  },
  {
   "cell_type": "markdown",
   "metadata": {},
   "source": [
    "# Predicting"
   ]
  },
  {
   "cell_type": "code",
   "execution_count": 10,
   "metadata": {},
   "outputs": [
    {
     "data": {
      "image/png": "[encoded data removed]",
      "text/plain": [
       "<Figure size 640x480 with 1 Axes>"
      ]
     },
     "metadata": {},
     "output_type": "display_data"
    }
   ],
   "source": [
    "low_res, high_res = train_set[0]\n",
    "\n",
    "plt.imshow(low_res.permute(1, 2, 0))\n",
    "plt.show()"
   ]
  },
  {
   "cell_type": "code",
   "execution_count": 20,
   "metadata": {},
   "outputs": [
    {
     "data": {
      "image/png": "[encoded data removed]",
      "text/plain": [
       "<Figure size 640x480 with 1 Axes>"
      ]
     },
     "metadata": {},
     "output_type": "display_data"
    }
   ],
   "source": [
    "# predict the outout using netD and netG\n",
    "predicted = netG(low_res.unsqueeze(0).to(device))\n",
    "\n",
    "plt.imshow(predicted.squeeze(0).detach().cpu().permute(1, 2, 0))\n",
    "plt.show()"
   ]
  },
  {
   "cell_type": "code",
   "execution_count": null,
   "metadata": {},
   "outputs": [],
   "source": [
    "# select an image from data/original/train\n",
    "\n",
    "img = Image.open(\"data/original/train/image_0.jpg\")\n",
    "# resize the image to 96x96\n",
    "img = img.resize((24, 24), Image.BICUBIC)\n",
    "\n",
    "# convert to tensor\n",
    "img = ToTensor()(img)\n",
    "\n",
    "# predict\n",
    "\n",
    "img = torch.unsqueeze(img, 0)\n",
    "img = img.to(device)\n",
    "predicted = netG(img)\n",
    "\n",
    "#  show the image\n",
    "print(predicted.shape)\n",
    "\n",
    "plt.imshow(predicted.squeeze(0).detach().cpu().permute(1, 2, 0))\n",
    "plt.show()"
   ]
  },
  {
   "cell_type": "code",
   "execution_count": 22,
   "metadata": {},
   "outputs": [
    {
     "data": {
      "image/png": "[encoded data removed]",
      "text/plain": [
       "<Figure size 640x480 with 1 Axes>"
      ]
     },
     "metadata": {},
     "output_type": "display_data"
    }
   ],
   "source": [
    "img = Image.open(\"data/original/train/image_0.jpg\")\n",
    "# resize the image to 96x96\n",
    "img = img.resize((24, 24))\n",
    "\n",
    "# plot the image\n",
    "plt.imshow(img)\n",
    "plt.show()"
   ]
  },
  {
   "cell_type": "code",
   "execution_count": null,
   "metadata": {},
   "outputs": [],
   "source": [
    "img = Image.open(\"data/original/train/image_0.jpg\")\n",
    "\n",
    "# crop 24 by 24 from left to right and "
   ]
  }
 ],
 "metadata": {
  "kernelspec": {
   "display_name": "Python 3.10.8 ('torch')",
   "language": "python",
   "name": "python3"
  },
  "language_info": {
   "codemirror_mode": {
    "name": "ipython",
    "version": 3
   },
   "file_extension": ".py",
   "mimetype": "text/x-python",
   "name": "python",
   "nbconvert_exporter": "python",
   "pygments_lexer": "ipython3",
   "version": "3.10.8"
  },
  "orig_nbformat": 4,
  "vscode": {
   "interpreter": {
    "hash": "e4090dc6ebd0aabdad2f5e783736e937ac5c18401d77fbabffd250cc6d250574"
   }
  }
 },
 "nbformat": 4,
 "nbformat_minor": 2
}
